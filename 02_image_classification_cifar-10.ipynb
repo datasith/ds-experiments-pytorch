{
 "cells": [
  {
   "cell_type": "code",
   "execution_count": 73,
   "metadata": {},
   "outputs": [],
   "source": [
    "import matplotlib.pyplot as plt\n",
    "import torch\n",
    "import torch.nn as nn\n",
    "import torch.nn.functional as F\n",
    "\n",
    "from torchvision import datasets, transforms\n",
    "\n",
    "# device config\n",
    "device = torch.device('cuda' if torch.cuda.is_available() else 'cpu')"
   ]
  },
  {
   "cell_type": "code",
   "execution_count": 3,
   "metadata": {},
   "outputs": [],
   "source": [
    "# path to store data and/or load from\n",
    "!mkdir -p datasets\n",
    "data_path=\"./datasets\""
   ]
  },
  {
   "cell_type": "code",
   "execution_count": 113,
   "metadata": {},
   "outputs": [
    {
     "name": "stdout",
     "output_type": "stream",
     "text": [
      "Files already downloaded and verified\n",
      "Files already downloaded and verified\n"
     ]
    }
   ],
   "source": [
    "transform = transforms.Compose(\n",
    "                                [\n",
    "                                 transforms.ToTensor(),\n",
    "                                 transforms.Normalize((0.5, 0.5, 0.5), (0.5, 0.5, 0.5))\n",
    "                                ]\n",
    "                              )\n",
    "\n",
    "train_data = datasets.CIFAR10(root=data_path, train=True, \n",
    "                              transform=transform, download=True)\n",
    "x_train, y_train = train_data.data,train_data.targets\n",
    "\n",
    "val_data = datasets.CIFAR10(root=data_path, train=False, \n",
    "                            transform=transform, download=True)\n",
    "x_val,y_val = val_data.data, val_data.targets\n",
    "\n",
    "classes = ('plane', 'car', 'bird', 'cat',\n",
    "           'deer', 'dog', 'frog', 'horse', 'ship', 'truck')"
   ]
  },
  {
   "cell_type": "code",
   "execution_count": 122,
   "metadata": {},
   "outputs": [],
   "source": [
    "# define hyper parameters\n",
    "num_classes   = len( set(train_data.targets) )\n",
    "num_epochs    = 10\n",
    "batch_size    = 4\n",
    "learning_rate = 0.001"
   ]
  },
  {
   "cell_type": "code",
   "execution_count": 116,
   "metadata": {},
   "outputs": [],
   "source": [
    "train_loader = torch.utils.data.DataLoader(dataset=train_data, batch_size=batch_size,\n",
    "                                           shuffle=True)\n",
    "val_loader = torch.utils.data.DataLoader(dataset=val_data, batch_size=batch_size,\n",
    "                                         shuffle=False)"
   ]
  },
  {
   "cell_type": "code",
   "execution_count": 117,
   "metadata": {},
   "outputs": [],
   "source": [
    "examples = iter(train_loader)\n",
    "samples, labels = examples.next()"
   ]
  },
  {
   "cell_type": "code",
   "execution_count": 118,
   "metadata": {},
   "outputs": [
    {
     "data": {
      "image/png": "[encoded data removed]",
      "text/plain": [
       "<Figure size 576x576 with 4 Axes>"
      ]
     },
     "metadata": {
      "needs_background": "light"
     },
     "output_type": "display_data"
    }
   ],
   "source": [
    "plt.figure(figsize=(8,8))\n",
    "for i in range(4):\n",
    "    plt.subplot(2,2,i+1)\n",
    "    img = (samples[i] + 1) / 2\n",
    "    img = img.T\n",
    "    plt.imshow(img)\n",
    "plt.show()"
   ]
  },
  {
   "cell_type": "code",
   "execution_count": 119,
   "metadata": {},
   "outputs": [],
   "source": [
    "class ConvNet(nn.Module):\n",
    "    def __init__(self, num_classes):\n",
    "        super(ConvNet, self).__init__()\n",
    "        # Conv2d(in_channels=3, out_channels=6, kernel_size=(5,5))\n",
    "        self.conv1 = nn.Conv2d(3, 6, kernel_size=(5,5))\n",
    "        self.pool  = nn.MaxPool2d(kernel_size=(2,2), stride=(2,2))\n",
    "        self.relu  = nn.ReLU()\n",
    "        self.conv2 = nn.Conv2d( 6, 16, kernel_size=(5,5))\n",
    "        self.fc1   = nn.Linear(16*5*5, 120) # 16 input tensors are 5x5\n",
    "        self.fc2   = nn.Linear(120, 84)\n",
    "        self.fc3   = nn.Linear(84 , num_classes)\n",
    "\n",
    "    def forward(self, x):\n",
    "        x = F.relu( self.conv1(x) )\n",
    "        x = self.pool(x)\n",
    "        x = F.relu( self.conv2(x) )\n",
    "        x = self.pool(x)\n",
    "        x = x.view(-1, 16*5*5)\n",
    "        x = F.relu(self.fc1(x))\n",
    "        x = F.relu(self.fc2(x))\n",
    "        return self.fc3(x)"
   ]
  },
  {
   "cell_type": "code",
   "execution_count": 123,
   "metadata": {},
   "outputs": [
    {
     "name": "stdout",
     "output_type": "stream",
     "text": [
      "Epoch [1/10], Step [2000/12500], Loss: 2.2921\n",
      "Epoch [1/10], Step [4000/12500], Loss: 2.3168\n",
      "Epoch [1/10], Step [6000/12500], Loss: 2.2968\n",
      "Epoch [1/10], Step [8000/12500], Loss: 2.2779\n",
      "Epoch [1/10], Step [10000/12500], Loss: 2.1905\n",
      "Epoch [1/10], Step [12000/12500], Loss: 2.1512\n",
      "Epoch [2/10], Step [2000/12500], Loss: 1.5954\n",
      "Epoch [2/10], Step [4000/12500], Loss: 1.5765\n",
      "Epoch [2/10], Step [6000/12500], Loss: 1.8405\n",
      "Epoch [2/10], Step [8000/12500], Loss: 1.8938\n",
      "Epoch [2/10], Step [10000/12500], Loss: 1.5023\n",
      "Epoch [2/10], Step [12000/12500], Loss: 1.1121\n",
      "Epoch [3/10], Step [2000/12500], Loss: 1.5604\n",
      "Epoch [3/10], Step [4000/12500], Loss: 1.2879\n",
      "Epoch [3/10], Step [6000/12500], Loss: 1.2568\n",
      "Epoch [3/10], Step [8000/12500], Loss: 3.0857\n",
      "Epoch [3/10], Step [10000/12500], Loss: 1.6097\n",
      "Epoch [3/10], Step [12000/12500], Loss: 1.7242\n",
      "Epoch [4/10], Step [2000/12500], Loss: 1.4251\n",
      "Epoch [4/10], Step [4000/12500], Loss: 1.4069\n",
      "Epoch [4/10], Step [6000/12500], Loss: 2.1690\n",
      "Epoch [4/10], Step [8000/12500], Loss: 1.3327\n",
      "Epoch [4/10], Step [10000/12500], Loss: 1.4242\n",
      "Epoch [4/10], Step [12000/12500], Loss: 1.7224\n",
      "Epoch [5/10], Step [2000/12500], Loss: 1.1225\n",
      "Epoch [5/10], Step [4000/12500], Loss: 0.7912\n",
      "Epoch [5/10], Step [6000/12500], Loss: 2.2727\n",
      "Epoch [5/10], Step [8000/12500], Loss: 1.9796\n",
      "Epoch [5/10], Step [10000/12500], Loss: 1.0634\n",
      "Epoch [5/10], Step [12000/12500], Loss: 0.5722\n",
      "Epoch [6/10], Step [2000/12500], Loss: 0.8936\n",
      "Epoch [6/10], Step [4000/12500], Loss: 1.4671\n",
      "Epoch [6/10], Step [6000/12500], Loss: 1.4360\n",
      "Epoch [6/10], Step [8000/12500], Loss: 1.9622\n",
      "Epoch [6/10], Step [10000/12500], Loss: 0.9854\n",
      "Epoch [6/10], Step [12000/12500], Loss: 2.1926\n",
      "Epoch [7/10], Step [2000/12500], Loss: 1.8997\n",
      "Epoch [7/10], Step [4000/12500], Loss: 1.0663\n",
      "Epoch [7/10], Step [6000/12500], Loss: 1.1958\n",
      "Epoch [7/10], Step [8000/12500], Loss: 0.8033\n",
      "Epoch [7/10], Step [10000/12500], Loss: 1.9437\n",
      "Epoch [7/10], Step [12000/12500], Loss: 0.8515\n",
      "Epoch [8/10], Step [2000/12500], Loss: 1.5664\n",
      "Epoch [8/10], Step [4000/12500], Loss: 1.8255\n",
      "Epoch [8/10], Step [6000/12500], Loss: 1.4107\n",
      "Epoch [8/10], Step [8000/12500], Loss: 0.8006\n",
      "Epoch [8/10], Step [10000/12500], Loss: 1.5691\n",
      "Epoch [8/10], Step [12000/12500], Loss: 1.7062\n",
      "Epoch [9/10], Step [2000/12500], Loss: 1.2170\n",
      "Epoch [9/10], Step [4000/12500], Loss: 1.4948\n",
      "Epoch [9/10], Step [6000/12500], Loss: 2.0652\n",
      "Epoch [9/10], Step [8000/12500], Loss: 1.2294\n",
      "Epoch [9/10], Step [10000/12500], Loss: 0.8900\n",
      "Epoch [9/10], Step [12000/12500], Loss: 1.4028\n",
      "Epoch [10/10], Step [2000/12500], Loss: 0.7228\n",
      "Epoch [10/10], Step [4000/12500], Loss: 1.0557\n",
      "Epoch [10/10], Step [6000/12500], Loss: 0.7587\n",
      "Epoch [10/10], Step [8000/12500], Loss: 0.3474\n",
      "Epoch [10/10], Step [10000/12500], Loss: 0.5547\n",
      "Epoch [10/10], Step [12000/12500], Loss: 0.4445\n"
     ]
    }
   ],
   "source": [
    "model = ConvNet(num_classes).to(device)\n",
    "# loss and optimizer\n",
    "criterion = nn.CrossEntropyLoss()\n",
    "optimizer = torch.optim.SGD(model.parameters(), lr=learning_rate)\n",
    "\n",
    "# training loop\n",
    "n_total_steps = len(train_loader)\n",
    "for epoch in range(num_epochs):\n",
    "    for i, (images, labels) in enumerate(train_loader):\n",
    "        # origin shape: [4, 3, 32, 32] = 4, 3, 1024\n",
    "        # input_layer: 3 input channels, 6 output channels, 5 kernel size\n",
    "        images = images.to(device)\n",
    "        labels = labels.to(device)\n",
    "\n",
    "        # Forward pass\n",
    "        outputs = model(images)\n",
    "        loss = criterion(outputs, labels)\n",
    "\n",
    "        # Backward and optimize\n",
    "        optimizer.zero_grad()\n",
    "        loss.backward()\n",
    "        optimizer.step()\n",
    "\n",
    "        if (i+1) % 2000 == 0:\n",
    "            print (f'Epoch [{epoch+1}/{num_epochs}], Step [{i+1}/{n_total_steps}], Loss: {loss.item():.4f}')"
   ]
  },
  {
   "cell_type": "code",
   "execution_count": 124,
   "metadata": {},
   "outputs": [
    {
     "name": "stdout",
     "output_type": "stream",
     "text": [
      "acc: 56.560001373291016\n",
      "Accuracy of the network: 56.560001373291016 %\n",
      "Accuracy of plane: 59.8 %\n",
      "Accuracy of car: 71.7 %\n",
      "Accuracy of bird: 44.7 %\n",
      "Accuracy of cat: 33.9 %\n",
      "Accuracy of deer: 43.1 %\n",
      "Accuracy of dog: 40.9 %\n",
      "Accuracy of frog: 81.0 %\n",
      "Accuracy of horse: 53.8 %\n",
      "Accuracy of ship: 73.5 %\n",
      "Accuracy of truck: 63.2 %\n"
     ]
    }
   ],
   "source": [
    "# test iteration\n",
    "with torch.no_grad():\n",
    "    n_correct = 0\n",
    "    n_samples = 0\n",
    "    n_class_correct = [0] * 10\n",
    "    n_class_samples = [0] * 10\n",
    "    for images, labels in val_loader:\n",
    "        images = images.to(device)\n",
    "        labels = labels.to(device)\n",
    "\n",
    "        # calculate predictions\n",
    "        outputs = model(images)\n",
    "        pred_val1, pred_idx1 = torch.max(outputs, 1)\n",
    "        n_samples += labels.size(0)\n",
    "        n_correct += (pred_idx1 == labels).sum()\n",
    "\n",
    "        for i in range(batch_size):\n",
    "            label = labels[i]\n",
    "            pred = pred_idx1[i]\n",
    "            if label == pred:\n",
    "                n_class_correct[label] += 1\n",
    "            n_class_samples[label] += 1\n",
    "    \n",
    "    print(f'acc: {100 * n_correct/n_samples}')\n",
    "    acc = 100.0 * n_correct / n_samples\n",
    "    print(f'Accuracy of the network: {acc} %')\n",
    "\n",
    "    for i in range(10):\n",
    "        acc = 100.0 * n_class_correct[i] / n_class_samples[i]\n",
    "        print(f'Accuracy of {classes[i]}: {acc} %')"
   ]
  },
  {
   "cell_type": "code",
   "execution_count": null,
   "metadata": {},
   "outputs": [],
   "source": []
  }
 ],
 "metadata": {
  "interpreter": {
   "hash": "31f2aee4e71d21fbe5cf8b01ff0e069b9275f58929596ceb00d14d90e3e16cd6"
  },
  "kernelspec": {
   "display_name": "Python 3.8.9 64-bit",
   "language": "python",
   "name": "python3"
  },
  "language_info": {
   "codemirror_mode": {
    "name": "ipython",
    "version": 3
   },
   "file_extension": ".py",
   "mimetype": "text/x-python",
   "name": "python",
   "nbconvert_exporter": "python",
   "pygments_lexer": "ipython3",
   "version": "3.8.9"
  },
  "orig_nbformat": 4
 },
 "nbformat": 4,
 "nbformat_minor": 2
}
