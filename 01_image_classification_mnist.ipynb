{
 "cells": [
  {
   "cell_type": "code",
   "execution_count": 2,
   "metadata": {},
   "outputs": [],
   "source": [
    "import matplotlib.pyplot as plt\n",
    "import torch\n",
    "import torch.nn as nn\n",
    "\n",
    "from torchvision import datasets, transforms\n",
    "\n",
    "# device config\n",
    "device = torch.device('cuda' if torch.cuda.is_available() else 'cpu')"
   ]
  },
  {
   "cell_type": "code",
   "execution_count": 3,
   "metadata": {},
   "outputs": [],
   "source": [
    "# path to store data and/or load from\n",
    "!mkdir -p datasets\n",
    "data_path=\"./datasets\""
   ]
  },
  {
   "cell_type": "code",
   "execution_count": 4,
   "metadata": {},
   "outputs": [
    {
     "name": "stdout",
     "output_type": "stream",
     "text": [
      "train data shape: (torch.Size([60000, 28, 28]), torch.Size([60000]))\n",
      "val data shape: (torch.Size([10000, 28, 28]), torch.Size([10000]))\n"
     ]
    }
   ],
   "source": [
    "train_data = datasets.MNIST(root=data_path, train=True, \n",
    "                            transform=transforms.ToTensor(), download=True)\n",
    "x_train, y_train = train_data.data,train_data.targets\n",
    "print(f'train data shape: {x_train.shape, y_train.shape}')\n",
    "\n",
    "val_data = datasets.MNIST(root=data_path, train=False, \n",
    "                          transform=transforms.ToTensor(), download=True)\n",
    "x_val,y_val = val_data.data, val_data.targets\n",
    "print(f'val data shape: {x_val.shape, y_val.shape}')\n"
   ]
  },
  {
   "cell_type": "code",
   "execution_count": 5,
   "metadata": {},
   "outputs": [],
   "source": [
    "# define hyper parameters\n",
    "input_size    = x_train.shape[1] * x_train.shape[2]\n",
    "num_classes   = len( train_data.targets.unique() )\n",
    "\n",
    "hidden_size   = 100\n",
    "num_epochs    = 2\n",
    "batch_size    = 100\n",
    "learning_rate = 0.001"
   ]
  },
  {
   "cell_type": "code",
   "execution_count": 5,
   "metadata": {},
   "outputs": [],
   "source": [
    "train_loader = torch.utils.data.DataLoader(dataset=train_data, batch_size=batch_size,\n",
    "                                           shuffle=True)\n",
    "val_loader = torch.utils.data.DataLoader(dataset=val_data, batch_size=batch_size,\n",
    "                                         shuffle=False)                                           "
   ]
  },
  {
   "cell_type": "code",
   "execution_count": 6,
   "metadata": {},
   "outputs": [],
   "source": [
    "examples = iter(train_loader)\n",
    "samples, labels = examples.next()"
   ]
  },
  {
   "cell_type": "code",
   "execution_count": 7,
   "metadata": {},
   "outputs": [
    {
     "data": {
      "text/plain": [
       "torch.Size([100, 1, 28, 28])"
      ]
     },
     "execution_count": 7,
     "metadata": {},
     "output_type": "execute_result"
    }
   ],
   "source": [
    "samples.shape"
   ]
  },
  {
   "cell_type": "code",
   "execution_count": 8,
   "metadata": {},
   "outputs": [
    {
     "data": {
      "image/png": "[encoded data removed]",
      "text/plain": [
       "<Figure size 576x576 with 9 Axes>"
      ]
     },
     "metadata": {
      "needs_background": "light"
     },
     "output_type": "display_data"
    }
   ],
   "source": [
    "plt.figure(figsize=(8,8))\n",
    "for i in range(9):\n",
    "    plt.subplot(3,3,i+1)\n",
    "    plt.imshow(samples[i][0], cmap='gray')\n",
    "plt.show()"
   ]
  },
  {
   "cell_type": "code",
   "execution_count": 9,
   "metadata": {},
   "outputs": [],
   "source": [
    "class NeuralNet(nn.Module):\n",
    "    def __init__(self, input_size, hidden_size, num_classes):\n",
    "        super(NeuralNet, self).__init__()\n",
    "        self.l1 = nn.Linear(input_size, hidden_size)\n",
    "        self.relu = nn.ReLU()\n",
    "        self.l2 = nn.Linear(hidden_size, num_classes)\n",
    "\n",
    "    def forward(self, x):\n",
    "        out = self.l1(x)\n",
    "        out = self.relu(out)\n",
    "        out = self.l2(out)\n",
    "        return out"
   ]
  },
  {
   "cell_type": "code",
   "execution_count": 10,
   "metadata": {},
   "outputs": [
    {
     "name": "stdout",
     "output_type": "stream",
     "text": [
      "epoch: 0|2, step: 100|600, loss: 0.3805\n",
      "epoch: 0|2, step: 200|600, loss: 0.3037\n",
      "epoch: 0|2, step: 300|600, loss: 0.4728\n",
      "epoch: 0|2, step: 400|600, loss: 0.2246\n",
      "epoch: 0|2, step: 500|600, loss: 0.2537\n",
      "epoch: 0|2, step: 600|600, loss: 0.1300\n",
      "epoch: 1|2, step: 100|600, loss: 0.1604\n",
      "epoch: 1|2, step: 200|600, loss: 0.2224\n",
      "epoch: 1|2, step: 300|600, loss: 0.1217\n",
      "epoch: 1|2, step: 400|600, loss: 0.1695\n",
      "epoch: 1|2, step: 500|600, loss: 0.1721\n",
      "epoch: 1|2, step: 600|600, loss: 0.1853\n"
     ]
    }
   ],
   "source": [
    "model = NeuralNet(input_size, hidden_size, num_classes)\n",
    "# loss and optimizer\n",
    "criterion = nn.CrossEntropyLoss()\n",
    "optimizer = torch.optim.Adam(model.parameters(), lr=learning_rate)\n",
    "\n",
    "# training loop\n",
    "n_total_steps = len(train_loader)\n",
    "for epoch in range(num_epochs):\n",
    "    for i, (images, labels) in enumerate(train_loader):\n",
    "        images = images.reshape(-1,28*28).to(device)\n",
    "        labels = labels.to(device)\n",
    "\n",
    "        # forward pass\n",
    "        outputs = model(images)\n",
    "        loss    = criterion(outputs, labels)\n",
    "\n",
    "        # backward pass\n",
    "        optimizer.zero_grad()\n",
    "        loss.backward()\n",
    "        optimizer.step()\n",
    "\n",
    "        if (i+1) % 100 == 0:\n",
    "            print(f'epoch: {epoch+1}|{num_epochs}, step: {i+1}|{n_total_steps}, '\n",
    "                  f'loss: {loss.item():.4f}')"
   ]
  },
  {
   "cell_type": "code",
   "execution_count": 11,
   "metadata": {},
   "outputs": [
    {
     "name": "stdout",
     "output_type": "stream",
     "text": [
      "acc: 95.70999908447266\n"
     ]
    }
   ],
   "source": [
    "# test iteration\n",
    "with torch.no_grad():\n",
    "    n_correct = 0\n",
    "    n_samples = 0\n",
    "    for images, labels in val_loader:\n",
    "        images = images.reshape(-1,28*28).to(device)\n",
    "        labels = labels.to(device)\n",
    "\n",
    "        # calculate predictions\n",
    "        outputs = model(images)\n",
    "        pred_val, pred_idx = torch.max(outputs, 1)\n",
    "        n_samples += labels.shape[0]\n",
    "        n_correct += (pred_idx == labels).sum()\n",
    "    print(f'acc: {100 * n_correct/n_samples}')"
   ]
  }
 ],
 "metadata": {
  "interpreter": {
   "hash": "31f2aee4e71d21fbe5cf8b01ff0e069b9275f58929596ceb00d14d90e3e16cd6"
  },
  "kernelspec": {
   "display_name": "Python 3.8.9 64-bit",
   "language": "python",
   "name": "python3"
  },
  "language_info": {
   "codemirror_mode": {
    "name": "ipython",
    "version": 3
   },
   "file_extension": ".py",
   "mimetype": "text/x-python",
   "name": "python",
   "nbconvert_exporter": "python",
   "pygments_lexer": "ipython3",
   "version": "3.8.9"
  },
  "orig_nbformat": 4
 },
 "nbformat": 4,
 "nbformat_minor": 2
}
