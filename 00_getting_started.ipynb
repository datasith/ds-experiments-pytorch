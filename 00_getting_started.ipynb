{
 "cells": [
  {
   "cell_type": "markdown",
   "metadata": {},
   "source": [
    "## Intro to PyTorch\n",
    "\n",
    "Tutorial link(s):\n",
    "* https://www.youtube.com/watch?v=c36lUUr864M"
   ]
  },
  {
   "cell_type": "markdown",
   "metadata": {},
   "source": [
    "### First steps"
   ]
  },
  {
   "cell_type": "code",
   "execution_count": 1,
   "metadata": {},
   "outputs": [],
   "source": [
    "import torch"
   ]
  },
  {
   "cell_type": "code",
   "execution_count": 2,
   "metadata": {},
   "outputs": [
    {
     "data": {
      "text/plain": [
       "tensor([0.6889, 0.2939, 0.4128])"
      ]
     },
     "execution_count": 2,
     "metadata": {},
     "output_type": "execute_result"
    }
   ],
   "source": [
    "x = torch.rand(3)\n",
    "x"
   ]
  },
  {
   "cell_type": "code",
   "execution_count": 3,
   "metadata": {},
   "outputs": [
    {
     "data": {
      "text/plain": [
       "False"
      ]
     },
     "execution_count": 3,
     "metadata": {},
     "output_type": "execute_result"
    }
   ],
   "source": [
    "torch.cuda.is_available()"
   ]
  },
  {
   "cell_type": "markdown",
   "metadata": {},
   "source": [
    "### Tensors"
   ]
  },
  {
   "cell_type": "code",
   "execution_count": 4,
   "metadata": {},
   "outputs": [
    {
     "data": {
      "text/plain": [
       "tensor([[3.4932e-36, 1.4013e-45, 3.4929e-36],\n",
       "        [1.4013e-45, 9.0067e-35, 1.4013e-45]])"
      ]
     },
     "execution_count": 4,
     "metadata": {},
     "output_type": "execute_result"
    }
   ],
   "source": [
    "x = torch.empty(2,3) \n",
    "x"
   ]
  },
  {
   "cell_type": "code",
   "execution_count": 5,
   "metadata": {},
   "outputs": [
    {
     "data": {
      "text/plain": [
       "tensor([[0.2705, 0.1732, 0.7292],\n",
       "        [0.1554, 0.4457, 0.9065]])"
      ]
     },
     "execution_count": 5,
     "metadata": {},
     "output_type": "execute_result"
    }
   ],
   "source": [
    "y = torch.rand(2,3)\n",
    "x.add_(y)\n",
    "x"
   ]
  },
  {
   "cell_type": "code",
   "execution_count": 6,
   "metadata": {},
   "outputs": [
    {
     "data": {
      "text/plain": [
       "torch.Size([6])"
      ]
     },
     "execution_count": 6,
     "metadata": {},
     "output_type": "execute_result"
    }
   ],
   "source": [
    "y_reshaped = y.view(6)\n",
    "y_reshaped.shape"
   ]
  },
  {
   "cell_type": "code",
   "execution_count": 7,
   "metadata": {},
   "outputs": [
    {
     "data": {
      "text/plain": [
       "array([[0.27049989, 0.17324698, 0.72922385],\n",
       "       [0.15536177, 0.44574386, 0.9065053 ]], dtype=float32)"
      ]
     },
     "execution_count": 7,
     "metadata": {},
     "output_type": "execute_result"
    }
   ],
   "source": [
    "z = x.numpy()\n",
    "z"
   ]
  },
  {
   "cell_type": "code",
   "execution_count": 8,
   "metadata": {},
   "outputs": [
    {
     "data": {
      "text/plain": [
       "array([[1.2705   , 1.173247 , 1.7292238],\n",
       "       [1.1553618, 1.4457438, 1.9065053]], dtype=float32)"
      ]
     },
     "execution_count": 8,
     "metadata": {},
     "output_type": "execute_result"
    }
   ],
   "source": [
    "z += 1\n",
    "z"
   ]
  },
  {
   "cell_type": "code",
   "execution_count": 9,
   "metadata": {},
   "outputs": [
    {
     "data": {
      "text/plain": [
       "tensor([[1.2705, 1.1732, 1.7292],\n",
       "        [1.1554, 1.4457, 1.9065]])"
      ]
     },
     "execution_count": 9,
     "metadata": {},
     "output_type": "execute_result"
    }
   ],
   "source": [
    "# z and x share memory space because they both reside in the CPU\n",
    "x"
   ]
  },
  {
   "cell_type": "code",
   "execution_count": 10,
   "metadata": {},
   "outputs": [
    {
     "data": {
      "text/plain": [
       "tensor(-9)"
      ]
     },
     "execution_count": 10,
     "metadata": {},
     "output_type": "execute_result"
    }
   ],
   "source": [
    "a = torch.tensor([[10,9],[8,7]])\n",
    "b = torch.tensor([[1,0],[0,-1]])\n",
    "torch.mm(a,b)\n",
    "torch.dot(a[0], b[1])"
   ]
  },
  {
   "cell_type": "markdown",
   "metadata": {},
   "source": [
    "### Autograd"
   ]
  },
  {
   "cell_type": "code",
   "execution_count": 11,
   "metadata": {},
   "outputs": [
    {
     "data": {
      "text/plain": [
       "tensor([ 0.0526,  0.6679, -0.0847], requires_grad=True)"
      ]
     },
     "execution_count": 11,
     "metadata": {},
     "output_type": "execute_result"
    }
   ],
   "source": [
    "x_grad = torch.randn(3, requires_grad=True)\n",
    "x_grad"
   ]
  },
  {
   "cell_type": "code",
   "execution_count": 12,
   "metadata": {},
   "outputs": [
    {
     "data": {
      "text/plain": [
       "tensor(2.2119, grad_fn=<MeanBackward0>)"
      ]
     },
     "execution_count": 12,
     "metadata": {},
     "output_type": "execute_result"
    }
   ],
   "source": [
    "# generating backprop function MeanBackward0\n",
    "z_grad = x_grad + 2 \n",
    "z_grad = z_grad.mean() \n",
    "z_grad"
   ]
  },
  {
   "cell_type": "code",
   "execution_count": 13,
   "metadata": {},
   "outputs": [
    {
     "name": "stdout",
     "output_type": "stream",
     "text": [
      "None\n"
     ]
    }
   ],
   "source": [
    "print(x_grad.grad)"
   ]
  },
  {
   "cell_type": "code",
   "execution_count": 14,
   "metadata": {},
   "outputs": [
    {
     "data": {
      "text/plain": [
       "tensor(2.2119, grad_fn=<MeanBackward0>)"
      ]
     },
     "execution_count": 14,
     "metadata": {},
     "output_type": "execute_result"
    }
   ],
   "source": [
    "# vector Jacobian product\n",
    "# no argument: scalar\n",
    "# tensor argument needed otherwise\n",
    "z_grad.backward() \n",
    "z_grad"
   ]
  },
  {
   "cell_type": "code",
   "execution_count": 15,
   "metadata": {},
   "outputs": [
    {
     "data": {
      "text/plain": [
       "tensor([0.3333, 0.3333, 0.3333])"
      ]
     },
     "execution_count": 15,
     "metadata": {},
     "output_type": "execute_result"
    }
   ],
   "source": [
    "x_grad.grad"
   ]
  },
  {
   "cell_type": "code",
   "execution_count": 16,
   "metadata": {},
   "outputs": [
    {
     "data": {
      "text/plain": [
       "tensor([ 0.0526,  0.6679, -0.0847])"
      ]
     },
     "execution_count": 16,
     "metadata": {},
     "output_type": "execute_result"
    }
   ],
   "source": [
    "# x_grad.requires_grad_(False)\n",
    "# x_grad.detach()\n",
    "# with torch.no_grad()\n",
    "y_grad = x_grad.detach()\n",
    "y_grad"
   ]
  },
  {
   "cell_type": "code",
   "execution_count": 17,
   "metadata": {},
   "outputs": [
    {
     "data": {
      "text/plain": [
       "tensor([0.6667, 0.6667, 0.6667])"
      ]
     },
     "execution_count": 17,
     "metadata": {},
     "output_type": "execute_result"
    }
   ],
   "source": [
    "# gradient accumulates\n",
    "z_grad.backward() \n",
    "x_grad.grad\n",
    "#x_grad.grad.zero_()"
   ]
  },
  {
   "cell_type": "markdown",
   "metadata": {},
   "source": [
    "### Backpropagation"
   ]
  },
  {
   "cell_type": "code",
   "execution_count": 18,
   "metadata": {},
   "outputs": [
    {
     "name": "stdout",
     "output_type": "stream",
     "text": [
      "tensor(1., grad_fn=<PowBackward0>)\n",
      "tensor(-2.)\n"
     ]
    }
   ],
   "source": [
    "x = torch.tensor(1.0)\n",
    "y = torch.tensor(2.0)\n",
    "w = torch.tensor(1.0, requires_grad=True)\n",
    "\n",
    "# forward pass\n",
    "y_hat = w * x\n",
    "\n",
    "# compute loss\n",
    "l = (y_hat - y)**2\n",
    "print(l)\n",
    "\n",
    "# backward pass\n",
    "l.backward()\n",
    "print(w.grad)\n",
    "\n",
    "# update weights\n",
    "learning_rate = 0.01\n",
    "new_w = w - learning_rate * w.grad\n",
    "\n",
    "# don't forget to zero the gradients\n",
    "# w.grad.zero_()"
   ]
  },
  {
   "cell_type": "markdown",
   "metadata": {},
   "source": [
    "#### Manual vs. Autograd vs. PyTorch"
   ]
  },
  {
   "cell_type": "code",
   "execution_count": 19,
   "metadata": {},
   "outputs": [
    {
     "name": "stdout",
     "output_type": "stream",
     "text": [
      "[M] Prediction before training: f(5) = 0.000\n",
      "[T] Prediction before training: f(5) = 0.000\n",
      "epoch 1: w = 1.200, loss = 30.00000000\n",
      "epoch 1: w_torch = 0.300, loss = 30.00000000\n",
      "epoch 11: w = 2.000, loss = 0.00000033\n",
      "epoch 11: w_torch = 1.665, loss = 1.16278565\n",
      "epoch 21: w = 2.000, loss = 0.00000000\n",
      "epoch 21: w_torch = 1.934, loss = 0.04506890\n",
      "epoch 31: w = 2.000, loss = 0.00000000\n",
      "epoch 31: w_torch = 1.987, loss = 0.00174685\n",
      "epoch 41: w = 2.000, loss = 0.00000000\n",
      "epoch 41: w_torch = 1.997, loss = 0.00006770\n",
      "epoch 51: w = 2.000, loss = 0.00000000\n",
      "epoch 51: w_torch = 1.999, loss = 0.00000262\n",
      "epoch 61: w = 2.000, loss = 0.00000000\n",
      "epoch 61: w_torch = 2.000, loss = 0.00000010\n",
      "epoch 71: w = 2.000, loss = 0.00000000\n",
      "epoch 71: w_torch = 2.000, loss = 0.00000000\n",
      "epoch 81: w = 2.000, loss = 0.00000000\n",
      "epoch 81: w_torch = 2.000, loss = 0.00000000\n",
      "epoch 91: w = 2.000, loss = 0.00000000\n",
      "epoch 91: w_torch = 2.000, loss = 0.00000000\n",
      "[M] Prediction after training: f(5) = 10.000\n",
      "[T] Prediction after training: f(5) = 10.000\n"
     ]
    }
   ],
   "source": [
    "import numpy as np \n",
    "import torch.nn as nn\n",
    "\n",
    "# here : f = 2 * x\n",
    "x = np.array([1, 2, 3, 4], dtype=np.float32)\n",
    "x_auto = torch.tensor(x, dtype=torch.float32)\n",
    "x_torch = torch.tensor(x, dtype=torch.float32)\n",
    "y = np.array([2, 4, 6, 8], dtype=np.float32)\n",
    "y_auto = torch.tensor(y, dtype=torch.float32)\n",
    "y_torch = torch.tensor(y, dtype=torch.float32)\n",
    "w = 0.0\n",
    "w_auto = torch.tensor(w, dtype=torch.float32, requires_grad=True)\n",
    "w_torch = torch.tensor(w, dtype=torch.float32, requires_grad=True)\n",
    "\n",
    "# model output\n",
    "def forward(w, x):\n",
    "    return w * x\n",
    "\n",
    "# loss = MSE\n",
    "def loss(y, y_pred):\n",
    "    return ((y_pred - y)**2).mean()\n",
    "\n",
    "# J = MSE = 1/N * (w*x - y)**2\n",
    "# dJ/dw = 1/N * 2x (w*x - y)\n",
    "def gradient(x, y, y_pred):\n",
    "    return np.dot(2*x, y_pred - y).mean()\n",
    "\n",
    "print(f'[M] Prediction before training: f(5) = {forward(w,5):.3f}')\n",
    "# print(f'[A] Prediction before training: f(5) = {forward(w_auto,5):.3f}')\n",
    "print(f'[T] Prediction before training: f(5) = {forward(w_torch,5):.3f}')\n",
    "\n",
    "# Training\n",
    "learning_rate = 0.01\n",
    "n_iters = 100\n",
    "\n",
    "loss_torch = nn.MSELoss()\n",
    "optimizer = torch.optim.SGD([w_torch], lr=learning_rate)\n",
    "\n",
    "for epoch in range(n_iters):\n",
    "    # predict = forward pass\n",
    "    y_hat = forward(w, x)\n",
    "    # y_hat_auto = forward(w_auto, x_auto)\n",
    "    y_hat_torch = forward(w_torch, x_torch)\n",
    "\n",
    "    # loss\n",
    "    l = loss(y, y_hat)\n",
    "    # l_auto = loss(y_auto, y_hat_auto)\n",
    "    l_torch = loss_torch(y_torch, y_hat_torch)\n",
    "\n",
    "    # calculate gradients\n",
    "    dw = gradient(x, y, y_hat)\n",
    "    # l_auto.backward()\n",
    "    l_torch.backward()\n",
    "    optimizer.step()\n",
    "\n",
    "    # update weights\n",
    "    w -= learning_rate * dw\n",
    "    # with torch.no_grad():\n",
    "    #     w_auto -= learning_rate * w_auto.grad\n",
    "    # w_auto.grad.zero_()\n",
    "    optimizer.zero_grad()\n",
    "\n",
    "    if epoch % 10 == 0:\n",
    "        print(f'epoch {epoch+1}: w = {w:.3f}, loss = {l:.8f}')\n",
    "        # print(f'epoch {epoch+1}: w_auto = {w_auto:.3f}, loss = {l_auto:.8f}')\n",
    "        print(f'epoch {epoch+1}: w_torch = {w_torch:.3f}, loss = {l_torch:.8f}')\n",
    "\n",
    "print(f'[M] Prediction after training: f(5) = {forward(w, 5):.3f}')\n",
    "# print(f'[A] Prediction after training: f(5) = {forward(w_auto, 5):.3f}')\n",
    "print(f'[T] Prediction after training: f(5) = {forward(w_torch, 5):.3f}')"
   ]
  },
  {
   "cell_type": "markdown",
   "metadata": {},
   "source": [
    "#### Linear Regression"
   ]
  },
  {
   "cell_type": "code",
   "execution_count": 20,
   "metadata": {},
   "outputs": [
    {
     "name": "stdout",
     "output_type": "stream",
     "text": [
      "epoch 1: loss = 5862.85937500\n",
      "epoch 11: loss = 4339.53515625\n",
      "epoch 21: loss = 3238.61523438\n",
      "epoch 31: loss = 2442.05541992\n",
      "epoch 41: loss = 1865.09558105\n",
      "epoch 51: loss = 1446.78247070\n",
      "epoch 61: loss = 1143.21533203\n",
      "epoch 71: loss = 922.73223877\n",
      "epoch 81: loss = 762.46923828\n",
      "epoch 91: loss = 645.89489746\n"
     ]
    },
    {
     "data": {
      "image/png": "[encoded data removed]",
      "text/plain": [
       "<Figure size 432x288 with 1 Axes>"
      ]
     },
     "metadata": {
      "needs_background": "light"
     },
     "output_type": "display_data"
    }
   ],
   "source": [
    "import torch\n",
    "import torch.nn as nn\n",
    "import numpy as np\n",
    "from sklearn import datasets\n",
    "import matplotlib.pyplot as plt\n",
    "\n",
    "# prepare data\n",
    "X_np, y_np = datasets.make_regression(n_samples=100, n_features=1, noise=20, random_state=1)\n",
    "X = torch.tensor(X_np, dtype=torch.float32)\n",
    "y = torch.tensor(y_np, dtype=torch.float32)\n",
    "y = y.view(y.shape[0],1) # 100 -> 100,1\n",
    "\n",
    "# build model\n",
    "n_samples, n_features = X.shape\n",
    "model = nn.Linear(n_features, 1)\n",
    "\n",
    "# loss and optimizer\n",
    "criterion = nn.MSELoss()\n",
    "optimizer = torch.optim.SGD(model.parameters(), lr=0.01)\n",
    "\n",
    "# training loop\n",
    "num_epochs = 100\n",
    "for epoch in range(num_epochs):\n",
    "    # forward pass\n",
    "    y_predicted = model(X)\n",
    "    loss = criterion(y_predicted, y)\n",
    "\n",
    "    # calculate gradients (backward pass)\n",
    "    loss.backward()\n",
    "\n",
    "    # update weights (and zero gradients out for next iteration)\n",
    "    optimizer.step()\n",
    "    optimizer.zero_grad()\n",
    "    if epoch % 10 == 0:\n",
    "        print(f'epoch {epoch+1}: loss = {loss:.8f}')\n",
    "\n",
    "# plot\n",
    "y_predicted = model(X).detach().numpy()\n",
    "\n",
    "plt.plot(X_np, y_np, 'ro')\n",
    "plt.plot(X_np, y_predicted, 'b')\n",
    "plt.show()\n"
   ]
  },
  {
   "cell_type": "markdown",
   "metadata": {},
   "source": [
    "#### Logistic Regression"
   ]
  },
  {
   "cell_type": "code",
   "execution_count": 21,
   "metadata": {},
   "outputs": [],
   "source": [
    "import torch\n",
    "import torch.nn as nn\n",
    "import numpy as np\n",
    "from sklearn import datasets\n",
    "from sklearn.preprocessing import StandardScaler\n",
    "from sklearn.model_selection import train_test_split\n",
    "\n",
    "# prepare the data\n",
    "breast_cancer = datasets.load_breast_cancer()\n",
    "X, y = breast_cancer.data, breast_cancer.target\n",
    "n_samples, n_features = X.shape\n",
    "X_train, X_test, y_train, y_test = train_test_split(X, y, test_size=0.2, random_state=42)\n",
    "\n",
    "# normalize the data\n",
    "scaler = StandardScaler()\n",
    "X_train_orig = X_train.copy()\n",
    "X_train = scaler.fit_transform(X_train)\n",
    "X_test = scaler.transform(X_test)\n",
    "\n",
    "# convert the data to torch tensors\n",
    "X_train = torch.tensor(X_train, dtype=torch.float32)\n",
    "X_test = torch.tensor(X_test, dtype=torch.float32)\n",
    "y_train = torch.tensor(y_train, dtype=torch.float32)\n",
    "y_test = torch.tensor(y_test, dtype=torch.float32)\n",
    "\n",
    "# reshape our labels\n",
    "y_train = y_train.view(y_train.shape[0],1)\n",
    "y_test = y_test.view(y_test.shape[0],1)"
   ]
  },
  {
   "cell_type": "code",
   "execution_count": 22,
   "metadata": {},
   "outputs": [
    {
     "data": {
      "image/png": "[encoded data removed]",
      "text/plain": [
       "<Figure size 432x288 with 1 Axes>"
      ]
     },
     "metadata": {
      "needs_background": "light"
     },
     "output_type": "display_data"
    }
   ],
   "source": [
    "# peek into the data distribution for one of the features\n",
    "# plt.hist(X_train_orig[:,1], bins=25)\n",
    "plt.hist(X_train_orig[:,1], bins=25)\n",
    "plt.show()"
   ]
  },
  {
   "cell_type": "code",
   "execution_count": 23,
   "metadata": {},
   "outputs": [
    {
     "data": {
      "text/plain": [
       "30"
      ]
     },
     "execution_count": 23,
     "metadata": {},
     "output_type": "execute_result"
    }
   ],
   "source": [
    "n_features"
   ]
  },
  {
   "cell_type": "code",
   "execution_count": 24,
   "metadata": {},
   "outputs": [
    {
     "name": "stdout",
     "output_type": "stream",
     "text": [
      "epoch 1: loss = 1.01718771\n",
      "epoch 11: loss = 0.73686498\n",
      "epoch 21: loss = 0.58180779\n",
      "epoch 31: loss = 0.49036747\n",
      "epoch 41: loss = 0.43044150\n",
      "epoch 51: loss = 0.38796011\n",
      "epoch 61: loss = 0.35609296\n",
      "epoch 71: loss = 0.33116075\n",
      "epoch 81: loss = 0.31101552\n",
      "epoch 91: loss = 0.29432115\n",
      "tensor(0.9561)\n"
     ]
    }
   ],
   "source": [
    "# build model\n",
    "class LogisticRegression(nn.Module):\n",
    "    def __init__(self, n_features):\n",
    "        super(LogisticRegression, self).__init__()\n",
    "        self.linear = nn.Linear(n_features, 1)\n",
    "\n",
    "    def forward(self, X):\n",
    "        y_predicted = torch.sigmoid(self.linear(X))\n",
    "        return y_predicted\n",
    "\n",
    "model = LogisticRegression(n_features)\n",
    "# model = nn.Linear(n_features, 1)\n",
    "\n",
    "# loss and optimizer\n",
    "criterion = nn.BCELoss()\n",
    "optimizer = torch.optim.SGD(model.parameters(), lr=0.01)\n",
    "\n",
    "# training loop\n",
    "num_epochs = 100\n",
    "for epoch in range(num_epochs):\n",
    "    # forward pass\n",
    "    y_predicted = model(X_train)\n",
    "    # y_predicted = torch.sigmoid(y_predicted) # activation function for logistic regression\n",
    "\n",
    "    # loss\n",
    "    loss = criterion(y_predicted, y_train)\n",
    "\n",
    "    # calculate gradients (backward pass)\n",
    "    loss.backward()\n",
    "\n",
    "    # update weights (and zero gradients out for next iteration)\n",
    "    optimizer.step()\n",
    "    optimizer.zero_grad()\n",
    "    if epoch % 10 == 0:\n",
    "        print(f'epoch {epoch+1}: loss = {loss:.8f}')\n",
    "\n",
    "# plot\n",
    "with torch.no_grad():\n",
    "    y_predicted = model(X_test)\n",
    "    y_predicted_cls = y_predicted.round()\n",
    "    acc = y_predicted_cls.eq(y_test).sum() / (y_test.shape[0])\n",
    "\n",
    "print(acc)"
   ]
  },
  {
   "cell_type": "markdown",
   "metadata": {},
   "source": [
    "#### Datasets and Dataloader"
   ]
  },
  {
   "cell_type": "code",
   "execution_count": 62,
   "metadata": {},
   "outputs": [],
   "source": [
    "import math\n",
    "import numpy as np\n",
    "import torch\n",
    "from torch.utils.data import Dataset, DataLoader\n",
    "\n",
    "\n",
    "\n",
    "class WineDataset(Dataset):\n",
    "    def __init__(self):\n",
    "        # data loading\n",
    "        from sklearn.datasets import load_wine        \n",
    "        dataset = load_wine()\n",
    "        self.x = torch.from_numpy(dataset['data'])\n",
    "        self.y = torch.from_numpy(dataset['target'])\n",
    "        \n",
    "    def __len__(self) -> int:\n",
    "        return len(self.x)\n",
    "    \n",
    "    def __getitem__(self, index: int):\n",
    "        return self.x[index], self.y[index]"
   ]
  },
  {
   "cell_type": "code",
   "execution_count": 89,
   "metadata": {},
   "outputs": [
    {
     "data": {
      "text/plain": [
       "(numpy.ndarray, numpy.ndarray)"
      ]
     },
     "execution_count": 89,
     "metadata": {},
     "output_type": "execute_result"
    }
   ],
   "source": [
    "dataset = load_wine()\n",
    "# x = torch.from_numpy(dataset['data'])\n",
    "# y = torch.from_numpy(dataset['target'])\n",
    "x = dataset['data']\n",
    "y = dataset['target']\n",
    "n_samples = y.shape[0]\n",
    "type(x), type(y)"
   ]
  },
  {
   "cell_type": "code",
   "execution_count": 64,
   "metadata": {},
   "outputs": [
    {
     "name": "stdout",
     "output_type": "stream",
     "text": [
      "tensor([[1.3500e+01, 3.1200e+00, 2.6200e+00, 2.4000e+01, 1.2300e+02, 1.4000e+00,\n",
      "         1.5700e+00, 2.2000e-01, 1.2500e+00, 8.6000e+00, 5.9000e-01, 1.3000e+00,\n",
      "         5.0000e+02],\n",
      "        [1.1760e+01, 2.6800e+00, 2.9200e+00, 2.0000e+01, 1.0300e+02, 1.7500e+00,\n",
      "         2.0300e+00, 6.0000e-01, 1.0500e+00, 3.8000e+00, 1.2300e+00, 2.5000e+00,\n",
      "         6.0700e+02],\n",
      "        [1.2360e+01, 3.8300e+00, 2.3800e+00, 2.1000e+01, 8.8000e+01, 2.3000e+00,\n",
      "         9.2000e-01, 5.0000e-01, 1.0400e+00, 7.6500e+00, 5.6000e-01, 1.5800e+00,\n",
      "         5.2000e+02],\n",
      "        [1.2420e+01, 2.5500e+00, 2.2700e+00, 2.2000e+01, 9.0000e+01, 1.6800e+00,\n",
      "         1.8400e+00, 6.6000e-01, 1.4200e+00, 2.7000e+00, 8.6000e-01, 3.3000e+00,\n",
      "         3.1500e+02]], dtype=torch.float64) tensor([2, 1, 2, 1])\n"
     ]
    }
   ],
   "source": [
    "dataset = WineDataset()\n",
    "# increasing the num_workers causes an error presumably related to running this in Jupyter\n",
    "dataloader = DataLoader(dataset=dataset, batch_size=4, shuffle=True, num_workers=0)\n",
    "dataiter = iter(dataloader)\n",
    "data = dataiter.next()\n",
    "features, labels = data\n",
    "print(features, labels)"
   ]
  },
  {
   "cell_type": "code",
   "execution_count": 65,
   "metadata": {},
   "outputs": [
    {
     "name": "stdout",
     "output_type": "stream",
     "text": [
      "178 45\n",
      "epoch 1/2, step 5/45, torch.Size([4, 13])\n",
      "epoch 1/2, step 10/45, torch.Size([4, 13])\n",
      "epoch 1/2, step 15/45, torch.Size([4, 13])\n",
      "epoch 1/2, step 20/45, torch.Size([4, 13])\n",
      "epoch 1/2, step 25/45, torch.Size([4, 13])\n",
      "epoch 1/2, step 30/45, torch.Size([4, 13])\n",
      "epoch 1/2, step 35/45, torch.Size([4, 13])\n",
      "epoch 1/2, step 40/45, torch.Size([4, 13])\n",
      "epoch 1/2, step 45/45, torch.Size([2, 13])\n",
      "epoch 2/2, step 5/45, torch.Size([4, 13])\n",
      "epoch 2/2, step 10/45, torch.Size([4, 13])\n",
      "epoch 2/2, step 15/45, torch.Size([4, 13])\n",
      "epoch 2/2, step 20/45, torch.Size([4, 13])\n",
      "epoch 2/2, step 25/45, torch.Size([4, 13])\n",
      "epoch 2/2, step 30/45, torch.Size([4, 13])\n",
      "epoch 2/2, step 35/45, torch.Size([4, 13])\n",
      "epoch 2/2, step 40/45, torch.Size([4, 13])\n",
      "epoch 2/2, step 45/45, torch.Size([2, 13])\n"
     ]
    }
   ],
   "source": [
    "# training loop\n",
    "num_epochs = 2\n",
    "total_samples = len(dataset)\n",
    "n_iterations = math.ceil(total_samples/4)\n",
    "print(total_samples, n_iterations)\n",
    "\n",
    "for epoch in range(num_epochs):\n",
    "    for i, (inputs, labels) in enumerate(dataloader):\n",
    "        # forward, backward, update\n",
    "        if not (i+1) % 5:\n",
    "            print(f'epoch {epoch+1}/{num_epochs}, step {i+1}/{n_iterations}, {inputs.shape}')\n"
   ]
  },
  {
   "cell_type": "markdown",
   "metadata": {},
   "source": [
    "#### Transforms"
   ]
  },
  {
   "cell_type": "code",
   "execution_count": 94,
   "metadata": {},
   "outputs": [],
   "source": [
    "import math\n",
    "import numpy as np\n",
    "import torch\n",
    "import torchvision\n",
    "from torch.utils.data import Dataset, DataLoader\n",
    "\n",
    "from sklearn.datasets import load_wine\n",
    "\n",
    "class WineDataset(Dataset):\n",
    "    def __init__(self, transform=None):\n",
    "        # data loading\n",
    "        from sklearn.datasets import load_wine        \n",
    "        dataset = load_wine()\n",
    "        self.x = dataset['data']\n",
    "        self.y = dataset['target']\n",
    "        self.transform = transform\n",
    "        \n",
    "    def __len__(self) -> int:\n",
    "        return len(self.x)\n",
    "    \n",
    "    def __getitem__(self, index: int):\n",
    "        sample = self.x[index], np.ndarray(self.y[index])\n",
    "        if self.transform is not None:\n",
    "            sample = self.transform(sample)\n",
    "        return sample\n",
    "\n",
    "class ToTensor():\n",
    "    def __call__(self, sample):\n",
    "        inputs, targets = sample\n",
    "        return torch.from_numpy(inputs), torch.from_numpy(targets)\n",
    "\n",
    "class MulTransform():\n",
    "    def __init__(self, factor):\n",
    "        self.factor = factor\n",
    "\n",
    "    def __call__(self, sample):\n",
    "        inputs, targets = sample\n",
    "        inputs *= self.factor\n",
    "        return inputs, targets\n"
   ]
  },
  {
   "cell_type": "code",
   "execution_count": 99,
   "metadata": {},
   "outputs": [
    {
     "name": "stdout",
     "output_type": "stream",
     "text": [
      "[1.423e+01 1.710e+00 2.430e+00 1.560e+01 1.270e+02 2.800e+00 3.060e+00\n",
      " 2.800e-01 2.290e+00 5.640e+00 1.040e+00 3.920e+00 1.065e+03]\n",
      "tensor([5.6920e+01, 6.8400e+00, 9.7200e+00, 6.2400e+01, 5.0800e+02, 1.1200e+01,\n",
      "        1.2240e+01, 1.1200e+00, 9.1600e+00, 2.2560e+01, 4.1600e+00, 1.5680e+01,\n",
      "        4.2600e+03], dtype=torch.float64)\n",
      "<class 'torch.Tensor'> <class 'torch.Tensor'>\n"
     ]
    }
   ],
   "source": [
    "# dataset = WineDataset(transform=ToTensor())\n",
    "dataset = WineDataset(transform=None)\n",
    "data = dataset[0]\n",
    "features, labels = data\n",
    "print(features)\n",
    "\n",
    "composed = torchvision.transforms.Compose([ToTensor(), MulTransform(4)])\n",
    "dataset = WineDataset(transform=composed)\n",
    "\n",
    "data = dataset[0]\n",
    "features, labels = data\n",
    "print(features)\n",
    "print(type(features), type(labels))"
   ]
  },
  {
   "cell_type": "markdown",
   "metadata": {},
   "source": [
    "#### Cross Entropy"
   ]
  },
  {
   "cell_type": "code",
   "execution_count": 122,
   "metadata": {},
   "outputs": [
    {
     "name": "stdout",
     "output_type": "stream",
     "text": [
      "loss (good): 0.3567\n",
      "loss (bad): 2.3026\n"
     ]
    }
   ],
   "source": [
    "def cross_entropy(predicted, actual):\n",
    "    # no need to np.sum OR / float(predicted.shape[0])\n",
    "    # due to one-hot encoding of actual\n",
    "    loss = np.dot( -actual, np.log(predicted) )\n",
    "    return loss\n",
    "\n",
    "y = np.array([1,0,0])\n",
    "# example good/bad output of softmax\n",
    "y_pred_good = np.array([0.7,0.2,0.1])\n",
    "y_pred_bad = np.array([0.1,0.3,0.6])\n",
    "\n",
    "l1 = cross_entropy(y_pred_good, y)\n",
    "l2 = cross_entropy(y_pred_bad, y)\n",
    "\n",
    "print(f'loss (good): {l1:.4f}')\n",
    "print(f'loss (bad): {l2:.4f}')"
   ]
  },
  {
   "cell_type": "code",
   "execution_count": 123,
   "metadata": {},
   "outputs": [],
   "source": [
    "import numpy as np\n",
    "import torch \n",
    "import torch.nn as nn\n",
    "# Multi-class\n",
    "from torch.nn import CrossEntropyLoss\n",
    "# For 2 classes use BCELoss + sigmoid at the end!"
   ]
  },
  {
   "cell_type": "code",
   "execution_count": 131,
   "metadata": {},
   "outputs": [
    {
     "name": "stdout",
     "output_type": "stream",
     "text": [
      "loss (good): 0.4170\n",
      "loss (bad): 2.2200\n"
     ]
    },
    {
     "data": {
      "text/plain": [
       "(tensor([2.5000]), tensor([1]))"
      ]
     },
     "execution_count": 131,
     "metadata": {},
     "output_type": "execute_result"
    }
   ],
   "source": [
    "# not one-hot encoded prediction\n",
    "y = torch.tensor([0])\n",
    "\n",
    "# example good/bad output. no softmax\n",
    "# n_samples x n_classes -> 1x3\n",
    "y_pred_good = torch.tensor([ [2.0,1.0,0.1] ])\n",
    "y_pred_bad = torch.tensor([ [0.5,2.5,0.3] ])\n",
    "\n",
    "loss = CrossEntropyLoss()\n",
    "\n",
    "l1 = loss(y_pred_good, y)\n",
    "l2 = loss(y_pred_bad, y)\n",
    "\n",
    "print(f'loss (good): {l1.item():.4f}')\n",
    "print(f'loss (bad): {l2.item():.4f}')\n",
    "\n",
    "pred_val1, pred_idx1 = torch.max(y_pred_bad, 1)\n",
    "pred_val1, pred_idx1"
   ]
  },
  {
   "cell_type": "markdown",
   "metadata": {},
   "source": [
    "### Activation Functions"
   ]
  },
  {
   "cell_type": "code",
   "execution_count": 133,
   "metadata": {},
   "outputs": [],
   "source": [
    "import numpy as np\n",
    "import torch \n",
    "import torch.nn as nn"
   ]
  },
  {
   "cell_type": "code",
   "execution_count": 134,
   "metadata": {},
   "outputs": [],
   "source": [
    "class NeuralNet(nn.Module):\n",
    "    def __init__(self, input_size, hidden_size):\n",
    "        super(NeuralNet, self).__init__()\n",
    "        self.linear1 = nn.Linear(input_size, hidden_size)\n",
    "        self.linear2 = nn.Linear(hidden_size, 1)\n",
    "    \n",
    "    def forward(self, x):\n",
    "        out = torch.relu(self.linear1(x))\n",
    "        out = torch.sigmoid(self.linear2(out))\n",
    "        return out"
   ]
  }
 ],
 "metadata": {
  "interpreter": {
   "hash": "31f2aee4e71d21fbe5cf8b01ff0e069b9275f58929596ceb00d14d90e3e16cd6"
  },
  "kernelspec": {
   "display_name": "Python 3.8.9 64-bit",
   "language": "python",
   "name": "python3"
  },
  "language_info": {
   "codemirror_mode": {
    "name": "ipython",
    "version": 3
   },
   "file_extension": ".py",
   "mimetype": "text/x-python",
   "name": "python",
   "nbconvert_exporter": "python",
   "pygments_lexer": "ipython3",
   "version": "3.8.9"
  },
  "orig_nbformat": 4
 },
 "nbformat": 4,
 "nbformat_minor": 2
}
