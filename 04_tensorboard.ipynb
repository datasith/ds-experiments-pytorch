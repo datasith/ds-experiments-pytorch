{
 "cells": [
  {
   "cell_type": "code",
   "execution_count": 158,
   "metadata": {},
   "outputs": [],
   "source": [
    "import datetime\n",
    "import matplotlib.pyplot as plt\n",
    "import torch\n",
    "import torch.nn as nn\n",
    "import torchvision\n",
    "\n",
    "from torchvision import datasets, transforms\n",
    "\n",
    "# device config\n",
    "device = torch.device('cuda' if torch.cuda.is_available() else 'cpu')"
   ]
  },
  {
   "cell_type": "code",
   "execution_count": 159,
   "metadata": {},
   "outputs": [],
   "source": [
    "############## TENSORBOARD ########################\n",
    "import sys\n",
    "import torch.nn.functional as F\n",
    "from torch.utils.tensorboard import SummaryWriter\n",
    "writer_dir = 'runs/mnist_'+ datetime.datetime.now().strftime(\"%Y%m%d_%H%M%S\")\n",
    "writer = SummaryWriter(writer_dir)\n",
    "###################################################"
   ]
  },
  {
   "cell_type": "code",
   "execution_count": 160,
   "metadata": {},
   "outputs": [],
   "source": [
    "# path to store data and/or load from\n",
    "!mkdir -p datasets\n",
    "data_path=\"./datasets\""
   ]
  },
  {
   "cell_type": "code",
   "execution_count": 161,
   "metadata": {},
   "outputs": [
    {
     "name": "stdout",
     "output_type": "stream",
     "text": [
      "train data shape: (torch.Size([60000, 28, 28]), torch.Size([60000]))\n",
      "val data shape: (torch.Size([10000, 28, 28]), torch.Size([10000]))\n"
     ]
    }
   ],
   "source": [
    "train_data = datasets.MNIST(root=data_path, train=True, \n",
    "                            transform=transforms.ToTensor(), download=True)\n",
    "x_train, y_train = train_data.data,train_data.targets\n",
    "print(f'train data shape: {x_train.shape, y_train.shape}')\n",
    "\n",
    "val_data = datasets.MNIST(root=data_path, train=False, \n",
    "                          transform=transforms.ToTensor(), download=True)\n",
    "x_val,y_val = val_data.data, val_data.targets\n",
    "print(f'val data shape: {x_val.shape, y_val.shape}')\n"
   ]
  },
  {
   "cell_type": "code",
   "execution_count": 162,
   "metadata": {},
   "outputs": [],
   "source": [
    "# define hyper parameters\n",
    "input_size    = x_train.shape[1] * x_train.shape[2]\n",
    "num_classes   = len( train_data.targets.unique() )\n",
    "\n",
    "hidden_size   = 500\n",
    "num_epochs    = 1\n",
    "batch_size    = 64\n",
    "learning_rate = 0.001"
   ]
  },
  {
   "cell_type": "code",
   "execution_count": 163,
   "metadata": {},
   "outputs": [],
   "source": [
    "train_loader = torch.utils.data.DataLoader(dataset=train_data, batch_size=batch_size,\n",
    "                                           shuffle=True)\n",
    "val_loader = torch.utils.data.DataLoader(dataset=val_data, batch_size=batch_size,\n",
    "                                         shuffle=False)                                           "
   ]
  },
  {
   "cell_type": "code",
   "execution_count": 164,
   "metadata": {},
   "outputs": [],
   "source": [
    "examples = iter(train_loader)\n",
    "samples, labels = examples.next()"
   ]
  },
  {
   "cell_type": "code",
   "execution_count": 165,
   "metadata": {},
   "outputs": [
    {
     "data": {
      "text/plain": [
       "torch.Size([64, 1, 28, 28])"
      ]
     },
     "execution_count": 165,
     "metadata": {},
     "output_type": "execute_result"
    }
   ],
   "source": [
    "samples.shape"
   ]
  },
  {
   "cell_type": "code",
   "execution_count": 166,
   "metadata": {},
   "outputs": [],
   "source": [
    "img_grid = torchvision.utils.make_grid(samples)\n",
    "\n",
    "# info for tensorboard\n",
    "writer.add_image('mnist_images', img_grid)\n",
    "# writer.close()"
   ]
  },
  {
   "cell_type": "code",
   "execution_count": 167,
   "metadata": {},
   "outputs": [],
   "source": [
    "class NeuralNet(nn.Module):\n",
    "    def __init__(self, input_size, hidden_size, num_classes):\n",
    "        super(NeuralNet, self).__init__()\n",
    "        self.l1 = nn.Linear(input_size, hidden_size)\n",
    "        self.relu = nn.ReLU()\n",
    "        self.l2 = nn.Linear(hidden_size, num_classes)\n",
    "\n",
    "    def forward(self, x):\n",
    "        out = self.l1(x)\n",
    "        out = self.relu(out)\n",
    "        out = self.l2(out)\n",
    "        return out"
   ]
  },
  {
   "cell_type": "code",
   "execution_count": 168,
   "metadata": {},
   "outputs": [],
   "source": [
    "model = NeuralNet(input_size, hidden_size, num_classes)\n",
    "# loss and optimizer\n",
    "criterion = nn.CrossEntropyLoss()\n",
    "optimizer = torch.optim.Adam(model.parameters(), lr=learning_rate)\n",
    "\n",
    "# info for tensorboard\n",
    "writer.add_graph(model, samples.reshape(-1,28*28))\n",
    "# writer.close()"
   ]
  },
  {
   "cell_type": "code",
   "execution_count": 169,
   "metadata": {},
   "outputs": [
    {
     "name": "stdout",
     "output_type": "stream",
     "text": [
      "epoch: 1|1, step: 100|938, loss: 0.4063\n",
      "epoch: 1|1, step: 200|938, loss: 0.4335\n",
      "epoch: 1|1, step: 300|938, loss: 0.2882\n",
      "epoch: 1|1, step: 400|938, loss: 0.1359\n",
      "epoch: 1|1, step: 500|938, loss: 0.4349\n",
      "epoch: 1|1, step: 600|938, loss: 0.0736\n",
      "epoch: 1|1, step: 700|938, loss: 0.2898\n",
      "epoch: 1|1, step: 800|938, loss: 0.1462\n",
      "epoch: 1|1, step: 900|938, loss: 0.0512\n"
     ]
    }
   ],
   "source": [
    "# training loop\n",
    "n_total_steps = len(train_loader)\n",
    "\n",
    "# info for tensorboard\n",
    "running_loss = running_correct = 0\n",
    "\n",
    "for epoch in range(num_epochs):\n",
    "    for i, (images, labels) in enumerate(train_loader):\n",
    "        images = images.reshape(-1,28*28).to(device)\n",
    "        labels = labels.to(device)\n",
    "\n",
    "        # forward pass\n",
    "        outputs = model(images)\n",
    "        loss    = criterion(outputs, labels)\n",
    "\n",
    "        # backward pass\n",
    "        optimizer.zero_grad()\n",
    "        loss.backward()\n",
    "        optimizer.step()\n",
    "\n",
    "        pred_val, pred_idx = torch.max(outputs, 1)\n",
    "\n",
    "        running_loss += loss.item()\n",
    "        running_correct += (pred_idx == labels).sum()\n",
    "\n",
    "        if (i+1) % 100 == 0:\n",
    "            print(f'epoch: {epoch+1}|{num_epochs}, step: {i+1}|{n_total_steps}, '\n",
    "                  f'loss: {loss.item():.4f}')\n",
    "            writer.add_scalar('training loss', running_loss/100, epoch * n_total_steps + i)\n",
    "            writer.add_scalar('accuracy ', running_correct/100, epoch * n_total_steps + i)\n",
    "            running_loss = running_correct = 0"
   ]
  },
  {
   "cell_type": "code",
   "execution_count": 170,
   "metadata": {},
   "outputs": [
    {
     "name": "stdout",
     "output_type": "stream",
     "text": [
      "acc: 96.2699966430664\n"
     ]
    }
   ],
   "source": [
    "# test iteration\n",
    "class_labels = []\n",
    "class_preds = []\n",
    "with torch.no_grad():\n",
    "    n_correct = 0\n",
    "    n_samples = 0\n",
    "    for images, labels in val_loader:\n",
    "        images = images.reshape(-1,28*28).to(device)\n",
    "        labels = labels.to(device)\n",
    "\n",
    "        # calculate predictions\n",
    "        outputs = model(images)\n",
    "        pred_val, pred_idx = torch.max(outputs, 1)\n",
    "        n_samples += labels.shape[0]\n",
    "        n_correct += (pred_idx == labels).sum()\n",
    "\n",
    "        class_probs_batch = [F.softmax(output, dim=0) for output in outputs]\n",
    "\n",
    "        class_preds.append(class_probs_batch)\n",
    "        class_labels.append(pred_idx)\n",
    "\n",
    "    # 10000, 10, and 10000, 1\n",
    "    # stack concatenates tensors along a new dimension\n",
    "    # cat concatenates tensors in the given dimension\n",
    "    class_preds = torch.cat([torch.stack(batch) for batch in class_preds])\n",
    "    class_labels = torch.cat(class_labels)        \n",
    "    print(f'acc: {100 * n_correct/n_samples}')\n",
    "\n",
    "    ############## TENSORBOARD ########################\n",
    "    classes = range(10)\n",
    "    for i in classes:\n",
    "        labels_i = class_labels == i\n",
    "        preds_i = class_preds[:, i]\n",
    "        writer.add_pr_curve(str(i), labels_i, preds_i, global_step=0)\n",
    "        writer.close()\n",
    "    ###################################################"
   ]
  }
 ],
 "metadata": {
  "interpreter": {
   "hash": "31f2aee4e71d21fbe5cf8b01ff0e069b9275f58929596ceb00d14d90e3e16cd6"
  },
  "kernelspec": {
   "display_name": "Python 3.8.9 64-bit",
   "language": "python",
   "name": "python3"
  },
  "language_info": {
   "codemirror_mode": {
    "name": "ipython",
    "version": 3
   },
   "file_extension": ".py",
   "mimetype": "text/x-python",
   "name": "python",
   "nbconvert_exporter": "python",
   "pygments_lexer": "ipython3",
   "version": "3.8.9"
  },
  "orig_nbformat": 4
 },
 "nbformat": 4,
 "nbformat_minor": 2
}
